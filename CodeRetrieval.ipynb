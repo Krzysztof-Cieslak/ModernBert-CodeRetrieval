{
 "cells": [
  {
   "cell_type": "code",
   "execution_count": null,
   "metadata": {},
   "outputs": [],
   "source": [
    "sample_dir = \"./sample/chrono\"\n",
    "sample_repo = \"https://github.com/chronotope/chrono\""
   ]
  },
  {
   "cell_type": "code",
   "execution_count": null,
   "metadata": {},
   "outputs": [],
   "source": [
    "from git import Repo\n",
    "Repo.clone_from(sample_repo, sample_dir)"
   ]
  },
  {
   "cell_type": "code",
   "execution_count": null,
   "metadata": {},
   "outputs": [],
   "source": [
    "import os\n",
    "\n",
    "def get_all_files(directory):\n",
    "    file_paths = []\n",
    "    for root, _, files in os.walk(directory):\n",
    "        for file in files:\n",
    "            file_paths.append(os.path.join(root, file))\n",
    "    return file_paths\n",
    "\n",
    "all_files = [file for file in get_all_files(sample_dir) if file.endswith('.rs')]\n",
    "print(all_files)\n",
    "print(f\"Total Rust files: {len(all_files)}\")"
   ]
  },
  {
   "cell_type": "code",
   "execution_count": null,
   "metadata": {},
   "outputs": [],
   "source": [
    "import tree_sitter_rust as rustts\n",
    "from tree_sitter import Language, Parser\n",
    "\n",
    "\n",
    "RUST_LANGUAGE = Language(rustts.language())\n",
    "parser = Parser(RUST_LANGUAGE)\n",
    "\n",
    "query = RUST_LANGUAGE.query(\"\"\"\n",
    "(\n",
    "   ((function_item) @function)\n",
    ")\n",
    "                            \"\"\")\n",
    "\n",
    "functions = []\n",
    "for file in all_files:\n",
    "    with open(file, 'rb') as f:\n",
    "        code = f.read()\n",
    "        tree = parser.parse(code)\n",
    "        captures = query.matches(tree.root_node)\n",
    "        for v in captures:\n",
    "            node = v[1]['function'][0]\n",
    "            n = node.prev_sibling\n",
    "            comments = []\n",
    "            while n:\n",
    "                if n.type == 'line_comment':\n",
    "                    comments.append(n.text.decode('utf-8'))\n",
    "                elif n.type == 'attribute_item':\n",
    "                    comments.append(n.text.decode('utf-8') + '\\n')\n",
    "                else:\n",
    "                    break\n",
    "                n = n.prev_sibling\n",
    "\n",
    "            comment = ''.join(reversed(comments))\n",
    "            code = node.text.decode('utf-8')\n",
    "            range = node.range\n",
    "            whole_text = comment + code\n",
    "            f = {\n",
    "                \"file\": file,\n",
    "                \"text\": whole_text,\n",
    "                \"range\": range\n",
    "            }\n",
    "            functions.append(f)\n",
    "\n",
    "print(functions)\n"
   ]
  },
  {
   "cell_type": "code",
   "execution_count": null,
   "metadata": {},
   "outputs": [],
   "source": [
    "from pylate import models, indexes\n",
    "import torch\n",
    "\n",
    "pylate_model = \"joe32140/ColModernBERT-base-msmarco-en-bge\"\n",
    "device = \"cuda\" if torch.cuda.is_available() else \"cpu\"\n",
    "\n",
    "model = models.ColBERT(\n",
    "    model_name_or_path=pylate_model,\n",
    "    device=device,\n",
    ")\n",
    "\n",
    "index = indexes.Voyager(\n",
    "    index_folder=\"pylate-index\",\n",
    "    index_name=\"index\",\n",
    "    override=True,\n",
    ")"
   ]
  },
  {
   "cell_type": "code",
   "execution_count": null,
   "metadata": {},
   "outputs": [],
   "source": [
    "functions_ids = []\n",
    "functions_texts = []\n",
    "i = 0\n",
    "for f in functions:\n",
    "    functions_ids.append(str(i))\n",
    "    functions_texts.append(f[\"text\"])\n",
    "    i += 1\n",
    "\n",
    "documents_embeddings = model.encode(\n",
    "    functions_texts,\n",
    "    batch_size=32,\n",
    "    is_query=False,\n",
    "    show_progress_bar=True,\n",
    ")\n",
    "\n",
    "index.add_documents(\n",
    "    documents_ids=functions_ids,\n",
    "    documents_embeddings=documents_embeddings,\n",
    ")"
   ]
  },
  {
   "cell_type": "code",
   "execution_count": null,
   "metadata": {},
   "outputs": [],
   "source": [
    "from pylate import retrieve\n",
    "\n",
    "retriever = retrieve.ColBERT(index=index)\n",
    "\n",
    "queries_embeddings = model.encode(\n",
    "    [\"Show the code related to parsing a time, excluding tests\"],\n",
    "    batch_size=32,\n",
    "    is_query=True,\n",
    "    show_progress_bar=True,\n",
    ")\n",
    "\n",
    "scores = retriever.retrieve(\n",
    "    queries_embeddings=queries_embeddings,\n",
    "    k=20,\n",
    ")\n",
    "\n",
    "for score in scores[0]:\n",
    "    id = score[\"id\"]\n",
    "    function = functions[int(id)]\n",
    "    print(f\"Score: {score['score']}\")\n",
    "    print(f\"File: {function['file']}\")\n",
    "    print(f\"Range: {function['range']}\")\n",
    "    print(f\"Text: {function['text']}\")"
   ]
  }
 ],
 "metadata": {
  "kernelspec": {
   "display_name": ".venv",
   "language": "python",
   "name": "python3"
  },
  "language_info": {
   "codemirror_mode": {
    "name": "ipython",
    "version": 3
   },
   "file_extension": ".py",
   "mimetype": "text/x-python",
   "name": "python",
   "nbconvert_exporter": "python",
   "pygments_lexer": "ipython3",
   "version": "3.12.8"
  }
 },
 "nbformat": 4,
 "nbformat_minor": 2
}
