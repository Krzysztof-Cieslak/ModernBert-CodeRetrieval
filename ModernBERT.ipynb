{
 "cells": [
  {
   "cell_type": "markdown",
   "metadata": {},
   "source": [
    "This repository is using `uv` for dependency management. Make sure to install it, and restore all dependencies using the following command:\n",
    "\n",
    "```bash\n",
    "uv sync\n",
    "```"
   ]
  },
  {
   "cell_type": "code",
   "execution_count": 6,
   "metadata": {},
   "outputs": [],
   "source": [
    "import torch\n",
    "\n",
    "fill_model = \"answerdotai/ModernBERT-base\"\n",
    "pylate_model = \"joe32140/ColModernBERT-base-msmarco-en-bge\"\n",
    "device = \"cuda\" if torch.cuda.is_available() else \"cpu\""
   ]
  },
  {
   "cell_type": "markdown",
   "metadata": {},
   "source": [
    "### Sample 1 - Basic Usage of base model\n",
    "\n",
    "Base ModernBERT model is capable of performing \"fill-mask\" tasks. Here's how you can use it:"
   ]
  },
  {
   "cell_type": "code",
   "execution_count": null,
   "metadata": {},
   "outputs": [],
   "source": [
    "import torch\n",
    "from transformers import pipeline\n",
    "from pprint import pprint\n",
    "\n",
    "pipe = pipeline(\n",
    "    \"fill-mask\",\n",
    "    model=fill_model,\n",
    "    torch_dtype=torch.bfloat16,\n",
    "    device=device,\n",
    ")\n",
    "\n",
    "input_text = \"Łódź is a city in [MASK].\"\n",
    "results = pipe(input_text)\n",
    "pprint(results)"
   ]
  },
  {
   "cell_type": "markdown",
   "metadata": {},
   "source": [
    "### Sample 2 - Using pylate model for multi-vector retrieval\n",
    "\n",
    "Below is code for initialzing pylate model and creating index for retrieval:"
   ]
  },
  {
   "cell_type": "code",
   "execution_count": null,
   "metadata": {},
   "outputs": [],
   "source": [
    "from pylate import indexes, models\n",
    "\n",
    "# Step 1: Load the ColBERT model\n",
    "model = models.ColBERT(\n",
    "    model_name_or_path=pylate_model,\n",
    "    device=device,\n",
    ")\n",
    "\n",
    "# Step 2: Initialize the Voyager index\n",
    "index = indexes.Voyager(\n",
    "    index_folder=\"pylate-index\",\n",
    "    index_name=\"index\",\n",
    "    override=True,  # This overwrites the existing index if any\n",
    ")\n",
    "\n",
    "# Step 3: Encode the documents\n",
    "documents_ids = [\"1\", \"2\", \"3\"]\n",
    "documents = [\"Paris\", \"Łódź\", \"Washington\"]\n",
    "\n",
    "documents_embeddings = model.encode(\n",
    "    documents,\n",
    "    batch_size=32,\n",
    "    is_query=False,  # Ensure that it is set to False to indicate that these are documents, not queries\n",
    "    show_progress_bar=True,\n",
    ")\n",
    "\n",
    "# Step 4: Add document embeddings to the index by providing embeddings and corresponding ids\n",
    "index.add_documents(\n",
    "    documents_ids=documents_ids,\n",
    "    documents_embeddings=documents_embeddings,\n",
    ")"
   ]
  },
  {
   "cell_type": "markdown",
   "metadata": {},
   "source": [
    "Here's the code for performing retrieval:"
   ]
  },
  {
   "cell_type": "code",
   "execution_count": null,
   "metadata": {},
   "outputs": [],
   "source": [
    "from pylate import retrieve\n",
    "\n",
    "# Step 1: Initialize the ColBERT retriever\n",
    "retriever = retrieve.ColBERT(index=index)\n",
    "\n",
    "# Step 2: Encode the queries\n",
    "queries_embeddings = model.encode(\n",
    "    [\"What is in Poland?\"],\n",
    "    batch_size=32,\n",
    "    is_query=True,\n",
    "    show_progress_bar=True,\n",
    ")\n",
    "\n",
    "# Step 3: Retrieve top-k documents\n",
    "scores = retriever.retrieve(\n",
    "    queries_embeddings=queries_embeddings,\n",
    "    k=10,  # Retrieve the top 10 matches for each query\n",
    ")\n",
    "\n",
    "print(scores)"
   ]
  }
 ],
 "metadata": {
  "kernelspec": {
   "display_name": ".venv",
   "language": "python",
   "name": "python3"
  },
  "language_info": {
   "codemirror_mode": {
    "name": "ipython",
    "version": 3
   },
   "file_extension": ".py",
   "mimetype": "text/x-python",
   "name": "python",
   "nbconvert_exporter": "python",
   "pygments_lexer": "ipython3",
   "version": "3.12.8"
  }
 },
 "nbformat": 4,
 "nbformat_minor": 2
}
